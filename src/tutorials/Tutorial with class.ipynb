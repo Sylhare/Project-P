{
 "cells": [
  {
   "cell_type": "code",
   "execution_count": null,
   "metadata": {},
   "outputs": [],
   "source": [
    "# Test with classes\n",
    "\n",
    "Une classe de test tout simplement"
   ]
  },
  {
   "cell_type": "code",
   "execution_count": null,
   "metadata": {},
   "outputs": [],
   "source": [
    "class Test:\n",
    "    \"\"\"Une classe de test tout simplement\"\"\"\n",
    "\n",
    "    def __init__(self):\n",
    "        \"\"\"On définit dans le constructeur un unique attribut\"\"\"\n",
    "        self.mon_attribut = \"ok\"\n",
    "\n",
    "    def afficher_attribut(self):\n",
    "        \"\"\"Méthode affichant l'attribut 'mon_attribut'\"\"\"\n",
    "        print(\"Mon attribut est {0}.\".format(self.mon_attribut))\n",
    "        \n",
    "    @staticmethod\n",
    "    def afficher():\n",
    "        \"\"\"Fonction chargée d'afficher quelque chose\"\"\"\n",
    "        print(\"On affiche la même chose.\")\n",
    "        print(\"peu importe les données de l'objet ou de la classe.\")"
   ]
  },
  {
   "cell_type": "code",
   "execution_count": 9,
   "metadata": {},
   "outputs": [
    {
     "name": "stdout",
     "output_type": "stream",
     "text": [
      "Mon attribut est ok.\n"
     ]
    },
    {
     "data": {
      "text/plain": [
       "['__class__',\n",
       " '__delattr__',\n",
       " '__dict__',\n",
       " '__dir__',\n",
       " '__doc__',\n",
       " '__eq__',\n",
       " '__format__',\n",
       " '__ge__',\n",
       " '__getattribute__',\n",
       " '__gt__',\n",
       " '__hash__',\n",
       " '__init__',\n",
       " '__init_subclass__',\n",
       " '__le__',\n",
       " '__lt__',\n",
       " '__module__',\n",
       " '__ne__',\n",
       " '__new__',\n",
       " '__reduce__',\n",
       " '__reduce_ex__',\n",
       " '__repr__',\n",
       " '__setattr__',\n",
       " '__sizeof__',\n",
       " '__str__',\n",
       " '__subclasshook__',\n",
       " '__weakref__',\n",
       " 'afficher',\n",
       " 'afficher_attribut',\n",
       " 'mon_attribut']"
      ]
     },
     "execution_count": 9,
     "metadata": {},
     "output_type": "execute_result"
    }
   ],
   "source": [
    "test = Test()\n",
    "dir(test)  # Affiche le nom de tous les attributs et méthodes"
   ]
  },
  {
   "cell_type": "code",
   "execution_count": 14,
   "metadata": {},
   "outputs": [
    {
     "name": "stdout",
     "output_type": "stream",
     "text": [
      "Mon attribut est ok.\n"
     ]
    }
   ],
   "source": [
    "test.afficher_attribut()"
   ]
  },
  {
   "cell_type": "code",
   "execution_count": 10,
   "metadata": {},
   "outputs": [],
   "source": [
    "class TableauNoir:\n",
    "    \"\"\"Classe définissant une surface sur laquelle on peut écrire,\n",
    "    que l'on peut lire et effacer, par jeu de méthodes. L'attribut modifié\n",
    "    est 'surface'\"\"\"\n",
    "\n",
    "    def __init__(self):\n",
    "        \"\"\"Par défaut, notre surface est vide\"\"\"\n",
    "        self.surface = \"\"\n",
    "\n",
    "    def ecrire(self, message_a_ecrire):\n",
    "        \"\"\"Méthode permettant d'écrire sur la surface du tableau.\n",
    "        Si la surface n'est pas vide, on saute une ligne avant de rajouter\n",
    "        le message à écrire\"\"\"\n",
    "\n",
    "        if self.surface != \"\":\n",
    "            self.surface += \"\\n\"\n",
    "        self.surface += message_a_ecrire\n",
    "\n",
    "    def lire(self):\n",
    "        \"\"\"Cette méthode se charge d'afficher, grâce à print,\n",
    "        la surface du tableau\"\"\"\n",
    "\n",
    "        print(self.surface)\n",
    "\n",
    "    def effacer(self):\n",
    "        \"\"\"Cette méthode permet d'effacer la surface du tableau\"\"\"\n",
    "        self.surface = \"\""
   ]
  },
  {
   "cell_type": "code",
   "execution_count": 11,
   "metadata": {},
   "outputs": [
    {
     "data": {
      "text/plain": [
       "'Coooool ! Ce sont les vacances !'"
      ]
     },
     "execution_count": 11,
     "metadata": {},
     "output_type": "execute_result"
    }
   ],
   "source": [
    "tab = TableauNoir()\n",
    "tab.surface\n",
    "tab.ecrire(\"Coooool ! Ce sont les vacances !\")\n",
    "tab.surface"
   ]
  },
  {
   "cell_type": "markdown",
   "metadata": {},
   "source": [
    "# Compteur\n",
    "\n",
    "Cette classe possède un attribut de classe qui s'incrémente à chaque\n",
    "    fois que l'on crée un objet de ce type"
   ]
  },
  {
   "cell_type": "code",
   "execution_count": 12,
   "metadata": {},
   "outputs": [],
   "source": [
    "class Compteur:\n",
    "    \"\"\"Cette classe possède un attribut de classe qui s'incrémente à chaque\n",
    "    fois que l'on crée un objet de ce type\"\"\"\n",
    "\n",
    "    objets_crees = 0  # Le compteur vaut 0 au départ\n",
    "\n",
    "    def __init__(self):\n",
    "        \"\"\"À chaque fois qu'on crée un objet, on incrémente le compteur\"\"\"\n",
    "        Compteur.objets_crees += 1\n",
    "\n",
    "    def combien(cls):\n",
    "        \"\"\"Méthode de classe affichant combien d'objets ont été créés\"\"\"\n",
    "        print(\"Jusqu'à présent, {} objets ont été créés.\".format(\n",
    "            cls.objets_crees))\n",
    "\n",
    "    combien = classmethod(combien)"
   ]
  },
  {
   "cell_type": "code",
   "execution_count": 15,
   "metadata": {},
   "outputs": [
    {
     "data": {
      "text/plain": [
       "3"
      ]
     },
     "execution_count": 15,
     "metadata": {},
     "output_type": "execute_result"
    }
   ],
   "source": [
    "Compteur.objets_crees\n",
    "a = Compteur()  # On crée un premier objet\n",
    "Compteur.objets_crees"
   ]
  },
  {
   "cell_type": "code",
   "execution_count": 16,
   "metadata": {},
   "outputs": [
    {
     "data": {
      "text/plain": [
       "4"
      ]
     },
     "execution_count": 16,
     "metadata": {},
     "output_type": "execute_result"
    }
   ],
   "source": [
    "b = Compteur()\n",
    "Compteur.objets_crees"
   ]
  },
  {
   "cell_type": "markdown",
   "metadata": {},
   "source": [
    "# Person\n",
    "\n",
    "Use the person class and its attributes"
   ]
  },
  {
   "cell_type": "code",
   "execution_count": 17,
   "metadata": {},
   "outputs": [],
   "source": [
    "class Personne(object):\n",
    "    \"\"\"Classe définissant une personne caractérisée par :\n",
    "    - son nom ;\n",
    "    - son prénom ;\n",
    "    - son âge ;\n",
    "    - son lieu de résidence\"\"\"\n",
    "\n",
    "    def __init__(self, nom, prenom):\n",
    "        \"\"\"Constructeur de notre classe\"\"\"\n",
    "        self.nom = nom\n",
    "        self.prenom = prenom\n",
    "        self.age = 33\n",
    "        self._lieu_residence = \"Paris\"  # '_' Convention pour non accessible depuis l'extérieur de la classe\n",
    "\n",
    "    def _get_lieu_residence(self):\n",
    "        \"\"\"Méthode qui sera appelée quand on souhaitera accéder en lecture à\n",
    "        l'attribut 'lieu_residence'\"\"\"\n",
    "\n",
    "        print(\"On accède à l'attribut lieu_residence !\")\n",
    "        return self._lieu_residence\n",
    "\n",
    "    def _set_lieu_residence(self, nouvelle_residence):\n",
    "        \"\"\"Méthode appelée quand on souhaite modifier le lieu de résidence\"\"\"\n",
    "        print(\"Attention, il semble que {} déménage à {}.\".format(\n",
    "            self.prenom, nouvelle_residence))\n",
    "        self._lieu_residence = nouvelle_residence\n",
    "\n",
    "    # On va dire à Python que notre attribut lieu_residence pointe vers une\n",
    "    # propriété\n",
    "    lieu_residence = property(_get_lieu_residence,\n",
    "                              _set_lieu_residence)  # + del objet.lieu_residence, help(objet.lieu_residence))"
   ]
  },
  {
   "cell_type": "code",
   "execution_count": 18,
   "metadata": {},
   "outputs": [
    {
     "data": {
      "text/plain": [
       "'Micado'"
      ]
     },
     "execution_count": 18,
     "metadata": {},
     "output_type": "execute_result"
    }
   ],
   "source": [
    "bernard = Personne(\"Micado\", \"Bernard\")\n",
    "bernard.nom"
   ]
  },
  {
   "cell_type": "code",
   "execution_count": 19,
   "metadata": {},
   "outputs": [
    {
     "data": {
      "text/plain": [
       "33"
      ]
     },
     "execution_count": 19,
     "metadata": {},
     "output_type": "execute_result"
    }
   ],
   "source": [
    "bernard.age"
   ]
  },
  {
   "cell_type": "code",
   "execution_count": 20,
   "metadata": {},
   "outputs": [
    {
     "name": "stdout",
     "output_type": "stream",
     "text": [
      "On accède à l'attribut lieu_residence !\n"
     ]
    },
    {
     "data": {
      "text/plain": [
       "'Paris'"
      ]
     },
     "execution_count": 20,
     "metadata": {},
     "output_type": "execute_result"
    }
   ],
   "source": [
    "jean = Personne(\"Micado\", \"Jean\")\n",
    "jean.lieu_residence"
   ]
  },
  {
   "cell_type": "code",
   "execution_count": 21,
   "metadata": {},
   "outputs": [
    {
     "name": "stdout",
     "output_type": "stream",
     "text": [
      "Attention, il semble que Jean déménage à Berlin.\n",
      "On accède à l'attribut lieu_residence !\n"
     ]
    },
    {
     "data": {
      "text/plain": [
       "'Berlin'"
      ]
     },
     "execution_count": 21,
     "metadata": {},
     "output_type": "execute_result"
    }
   ],
   "source": [
    "jean.lieu_residence = \"Berlin\"\n",
    "jean.lieu_residence"
   ]
  },
  {
   "cell_type": "code",
   "execution_count": null,
   "metadata": {},
   "outputs": [],
   "source": []
  }
 ],
 "metadata": {
  "kernelspec": {
   "display_name": "Python 3",
   "language": "python",
   "name": "python3"
  },
  "language_info": {
   "codemirror_mode": {
    "name": "ipython",
    "version": 3
   },
   "file_extension": ".py",
   "mimetype": "text/x-python",
   "name": "python",
   "nbconvert_exporter": "python",
   "pygments_lexer": "ipython3",
   "version": "3.7.5"
  }
 },
 "nbformat": 4,
 "nbformat_minor": 2
}
